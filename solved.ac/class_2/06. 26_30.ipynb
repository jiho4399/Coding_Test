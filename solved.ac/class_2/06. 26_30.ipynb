{
  "nbformat": 4,
  "nbformat_minor": 0,
  "metadata": {
    "colab": {
      "name": "6. 26_30.ipynb",
      "provenance": [],
      "collapsed_sections": [],
      "toc_visible": true
    },
    "kernelspec": {
      "name": "python3",
      "display_name": "Python 3"
    },
    "language_info": {
      "name": "python"
    }
  },
  "cells": [
    {
      "cell_type": "markdown",
      "source": [
        "# 2839번 : 설탕 배달"
      ],
      "metadata": {
        "id": "Kofq0iY_oKzm"
      }
    },
    {
      "cell_type": "code",
      "execution_count": null,
      "metadata": {
        "colab": {
          "base_uri": "https://localhost:8080/"
        },
        "id": "jC6QTd_MoC0a",
        "outputId": "4dbb5b4e-0b73-48a5-ae9a-3c63bf36770a"
      },
      "outputs": [
        {
          "output_type": "stream",
          "name": "stdout",
          "text": [
            "2\n"
          ]
        }
      ],
      "source": [
        "n = int(input())\n",
        "\n",
        "count = 0\n",
        "\n",
        "while n >= 0:\n",
        "  if n%5 == 0:\n",
        "    count += n//5\n",
        "    print(count)\n",
        "    break\n",
        "  \n",
        "  else:\n",
        "    n -= 3\n",
        "    count += 1\n",
        "  \n",
        "  if n < 0:\n",
        "    print(-1)"
      ]
    },
    {
      "cell_type": "markdown",
      "source": [
        "# 4949번 : 균형잡힌 세상"
      ],
      "metadata": {
        "id": "VHrnc5dOESy6"
      }
    },
    {
      "cell_type": "code",
      "source": [
        "# a, b, c, d = 0, 0, 0, 0\n",
        "\n",
        "result2 = []\n",
        "\n",
        "while True:\n",
        "  x = input().rstrip()\n",
        "  if x == '.':\n",
        "    break\n",
        "  a, b, c, d = 0, 0, 0, 0\n",
        "  result = []\n",
        "  for i in x:\n",
        "    if i == '(':\n",
        "      a += 1\n",
        "      result.append(i)\n",
        "      \n",
        "    elif i == '[':\n",
        "      c += 1    \n",
        "      result.append(i)\n",
        "\n",
        "    elif i == ')':\n",
        "      if result or result.pop() == '(':\n",
        "        b += 1\n",
        "        break\n",
        "\n",
        "    elif i == '[':\n",
        "      c += 1    \n",
        "      result.append(i)\n",
        "\n",
        "    elif i == ']':\n",
        "      if result or result.pop() == '[':\n",
        "        d += 1\n",
        "        break\n",
        "\n",
        "    elif i == '.':\n",
        "      if result:\n",
        "          # print('no')\n",
        "          result2.append('no')\n",
        "      else:\n",
        "          # print(\"yes\")\n",
        "          result2.append('yes')\n",
        "\n",
        "  if (a == b) and (c == d):\n",
        "    print('yes')\n",
        "  \n",
        "  elif (a != b) or (c != d):\n",
        "    print('no')\n",
        "\n",
        "  print(a, b, c, d)      \n",
        "\n",
        "result"
      ],
      "metadata": {
        "colab": {
          "base_uri": "https://localhost:8080/"
        },
        "id": "z-vnWSVaon3N",
        "outputId": "364a4021-83f8-47f5-c6bd-7217bafc2042"
      },
      "execution_count": null,
      "outputs": [
        {
          "name": "stdout",
          "output_type": "stream",
          "text": [
            "So when I die (the [first] I will see in (heaven) is a score list).\n",
            "no\n",
            "1 0 1 1\n",
            ".\n"
          ]
        },
        {
          "output_type": "execute_result",
          "data": {
            "text/plain": [
              "['(', '[']"
            ]
          },
          "metadata": {},
          "execution_count": 11
        }
      ]
    },
    {
      "cell_type": "code",
      "source": [
        "import sys\n",
        "ss = sys.stdin.readlines()\n",
        "for s in ss[:-1]:\n",
        "    result = []\n",
        "    for i in s:\n",
        "        if i in '([':\n",
        "            result.append(i)\n",
        "        elif i == \"]\":\n",
        "            if not result or result.pop() != '[':\n",
        "                print('no')\n",
        "                break\n",
        "        elif i == ')':\n",
        "            if not result or result.pop() != '(':\n",
        "                print('no')\n",
        "                break\n",
        "        elif i == '.':\n",
        "            if result:\n",
        "                print('no')\n",
        "            else:\n",
        "                print(\"yes\")"
      ],
      "metadata": {
        "id": "P5jwQXM8GW--"
      },
      "execution_count": null,
      "outputs": []
    },
    {
      "cell_type": "markdown",
      "source": [
        "# 9012번 : 괄호"
      ],
      "metadata": {
        "id": "eDyiDKmZAJKO"
      }
    },
    {
      "cell_type": "code",
      "source": [
        "T = int(input())\n",
        "\n",
        "for i in range(T):\n",
        "  s = input()\n",
        "  result = 0\n",
        "  for j in s:\n",
        "    if j == '(':\n",
        "      result += 1\n",
        "    elif j == ')':\n",
        "      result -= 1\n",
        "    \n",
        "    if result < 0:\n",
        "      print('NO')\n",
        "      break\n",
        "\n",
        "  if result > 0:\n",
        "    print('NO')\n",
        "  elif result == 0:\n",
        "    print('YES')"
      ],
      "metadata": {
        "id": "8icqspCYR-oS",
        "colab": {
          "base_uri": "https://localhost:8080/"
        },
        "outputId": "4a9a81ab-3056-4be4-d698-885bdb9fcc6d"
      },
      "execution_count": null,
      "outputs": [
        {
          "output_type": "stream",
          "name": "stdout",
          "text": [
            "1\n",
            ")(\n",
            "NO\n"
          ]
        }
      ]
    },
    {
      "cell_type": "code",
      "source": [
        "# 동권님 풀이\n",
        "T = int(input())\n",
        "\n",
        "# 입력 받은 정수 만큼 문자열을 받는다\n",
        "for _ in range(T):\n",
        "    s = input()\n",
        "    \n",
        "    \n",
        "\t# while 문을 사용하여 올바르게 짝지어진 괄호가 사라질 때까지\n",
        "    # 반복하여 소거해 나간다\n",
        "    while '()' in s:\n",
        "        s = s.replace('()', '')\n",
        "    \n",
        "    # while문이 종료되고 문자열의 길이가 0 이라면, 괄호가 올바르게 짝지어져 있는 것 이므로\n",
        "    # YES를 출력하고 아닐 경우 NO를 출력한다\n",
        "    if len(s) == 0:\n",
        "        print(\"YES\")\n",
        "    else:\n",
        "        print(\"NO\")"
      ],
      "metadata": {
        "id": "fOzjjbc9BthF"
      },
      "execution_count": null,
      "outputs": []
    },
    {
      "cell_type": "markdown",
      "source": [
        "# 10773번 : 제로"
      ],
      "metadata": {
        "id": "lZOzpokAyA3T"
      }
    },
    {
      "cell_type": "code",
      "source": [
        "import sys\n",
        "# k = int(sys.stdin.readline())\n",
        "k = int(input())\n",
        "\n",
        "answer = 0\n",
        "lst = []\n",
        "\n",
        "for _ in range(k):\n",
        "  # n = int(sys.stdin.readline())\n",
        "  n = int(input())\n",
        "\n",
        "  if n != 0:\n",
        "    lst.append(n)\n",
        "    answer += n\n",
        "  \n",
        "  elif n == 0:\n",
        "    answer -= lst.pop(-1)\n",
        "    # del lst[-1]\n",
        "\n",
        "print(answer)"
      ],
      "metadata": {
        "colab": {
          "base_uri": "https://localhost:8080/"
        },
        "id": "i8P8fTeJyDqH",
        "outputId": "d5235dc3-c795-4f82-926e-80e5008b919e"
      },
      "execution_count": null,
      "outputs": [
        {
          "output_type": "stream",
          "name": "stdout",
          "text": [
            "10\n",
            "1\n",
            "3\n",
            "5\n",
            "4\n",
            "0\n",
            "0\n",
            "7\n",
            "0\n",
            "0\n",
            "6\n",
            "7\n"
          ]
        }
      ]
    },
    {
      "cell_type": "markdown",
      "source": [
        "# 10816번 : 숫자 카드 2"
      ],
      "metadata": {
        "id": "oCEgZu8VgtMd"
      }
    },
    {
      "cell_type": "code",
      "source": [
        "# 시간초과\n",
        "\n",
        "# import sys\n",
        "# input = sys.stdin.readline\n",
        "\n",
        "# n = int(input())\n",
        "# n_list = list(map(int, input().split()))\n",
        "\n",
        "# m = int(input())\n",
        "# m_list = list(map(int, input().split()))\n",
        "\n",
        "n = 10\n",
        "n_list = [6, 3, 2, 10, 10, 10, -10, -10, 7, 3] \n",
        "m = 8\n",
        "m_list = [10, 9, -5, 2, 3, 4, 5, -10]\n",
        "\n",
        "lst = []\n",
        "\n",
        "for i in m_list:\n",
        "  count = 0\n",
        "  for j in n_list:\n",
        "    if i == j:\n",
        "      count += 1\n",
        "  lst.append(count)\n",
        "\n",
        "for k in range(m):\n",
        "  print(lst[k], end=' ')"
      ],
      "metadata": {
        "id": "jkBKfmtUyNtp",
        "colab": {
          "base_uri": "https://localhost:8080/"
        },
        "outputId": "f844d875-ded7-4245-970c-57d9f685f29f"
      },
      "execution_count": null,
      "outputs": [
        {
          "output_type": "stream",
          "name": "stdout",
          "text": [
            "3 0 0 1 2 0 0 2 "
          ]
        }
      ]
    },
    {
      "cell_type": "code",
      "source": [
        "# 성공\n",
        "\n",
        "import sys\n",
        "input = sys.stdin.readline\n",
        "\n",
        "n = int(input())\n",
        "n_list = list(map(int, input().split()))\n",
        "\n",
        "m = int(input())\n",
        "m_list = list(map(int, input().split()))\n",
        "\n",
        "dic = {}\n",
        "\n",
        "for i in n_list:\n",
        "  if i not in dic:\n",
        "    dic[i] = 1\n",
        "  else:\n",
        "    dic[i] += 1\n",
        "\n",
        "for j in m_list:\n",
        "  if j in dic:\n",
        "    print(dic[j], end=' ')\n",
        "  else:\n",
        "    print(0, end=' ')\n"
      ],
      "metadata": {
        "colab": {
          "base_uri": "https://localhost:8080/"
        },
        "id": "f0pLg5dOhhpx",
        "outputId": "6beb2779-8708-44ba-adb5-eff16a29bf7a"
      },
      "execution_count": null,
      "outputs": [
        {
          "output_type": "stream",
          "name": "stdout",
          "text": [
            "3 0 0 1 2 0 0 2 "
          ]
        }
      ]
    },
    {
      "cell_type": "code",
      "source": [
        ""
      ],
      "metadata": {
        "id": "jo3li2MwlSVi"
      },
      "execution_count": null,
      "outputs": []
    }
  ]
}