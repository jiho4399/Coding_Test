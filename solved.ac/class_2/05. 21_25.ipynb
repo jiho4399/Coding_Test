{
  "nbformat": 4,
  "nbformat_minor": 0,
  "metadata": {
    "colab": {
      "name": "05. 21_25.ipynb",
      "provenance": [],
      "collapsed_sections": []
    },
    "kernelspec": {
      "name": "python3",
      "display_name": "Python 3"
    },
    "language_info": {
      "name": "python"
    }
  },
  "cells": [
    {
      "cell_type": "markdown",
      "source": [
        "# 11651번 : 좌표 정렬하기2"
      ],
      "metadata": {
        "id": "S2x2pvWbeE9x"
      }
    },
    {
      "cell_type": "code",
      "execution_count": null,
      "metadata": {
        "id": "b-MhjlJZeAsO"
      },
      "outputs": [],
      "source": [
        "n = int(input())\n",
        "\n",
        "for i range(n):\n",
        "  x, y = int(input(), )"
      ]
    },
    {
      "cell_type": "code",
      "source": [
        "import sys\n",
        "n = int(sys.stdin.readline())\n",
        "\n",
        "point = []\n",
        "\n",
        "for _ in range(n):\n",
        "  x, y = sys.stdin.readline().split()\n",
        "  point.append([int(y), int(x)])\n",
        "\n",
        "point.sort()\n",
        "\n",
        "for i in point:\n",
        "    print(i[1], i[0])"
      ],
      "metadata": {
        "id": "lL_BqaHTfN8E"
      },
      "execution_count": null,
      "outputs": []
    },
    {
      "cell_type": "code",
      "source": [
        "n = 5\n",
        "\n",
        "point = [[4, 0], [2, 1], [-1, 1], [2, 2], [3, 3]]\n",
        "\n",
        "# point = sorted(point)\n",
        "\n",
        "point.sort()\n",
        "\n",
        "for i in point:\n",
        "  print(i[1], i[0])\n",
        "\n"
      ],
      "metadata": {
        "colab": {
          "base_uri": "https://localhost:8080/"
        },
        "id": "dbw2q1yygFAH",
        "outputId": "a058d2b4-53ca-4c79-c1c9-0a88b653de49"
      },
      "execution_count": 3,
      "outputs": [
        {
          "output_type": "stream",
          "name": "stdout",
          "text": [
            "1 -1\n",
            "1 2\n",
            "2 2\n",
            "3 3\n",
            "0 4\n"
          ]
        }
      ]
    },
    {
      "cell_type": "markdown",
      "source": [
        "# 11866번 : 요세푸스 문제 0"
      ],
      "metadata": {
        "id": "2r_HSUbz6uor"
      }
    },
    {
      "cell_type": "code",
      "source": [
        "N, K = map(int,input().split())\n",
        "ans= []\n",
        "arr = [i for i in range(1,N+1)] \n",
        "num = 0\n",
        "for i in range(N):\n",
        "    num+=(K-1)\n",
        "    if num >= len(arr):\n",
        "        num %= len(arr)\n",
        "    ans.append(str(arr[num]))\n",
        "    arr.pop(num)\n",
        "    print(num)\n",
        "print(\"<\",', '.join(ans),\">\", sep=\"\")"
      ],
      "metadata": {
        "colab": {
          "base_uri": "https://localhost:8080/"
        },
        "id": "FG7KH0xQgftH",
        "outputId": "a58023bc-01af-4a6b-dd0f-a0631d3e3e4f"
      },
      "execution_count": 1,
      "outputs": [
        {
          "output_type": "stream",
          "name": "stdout",
          "text": [
            "7 3\n",
            "2\n",
            "4\n",
            "1\n",
            "3\n",
            "2\n",
            "0\n",
            "0\n",
            "<3, 6, 2, 7, 5, 1, 4>\n"
          ]
        }
      ]
    },
    {
      "cell_type": "markdown",
      "source": [
        "# 1018번 : 체스판 다시 칠하기"
      ],
      "metadata": {
        "id": "CQ9urDcCMmWU"
      }
    },
    {
      "cell_type": "code",
      "source": [
        "strat_w = 'WB'\n",
        "start_b = 'BW'"
      ],
      "metadata": {
        "id": "AvkRnecsM789"
      },
      "execution_count": null,
      "outputs": []
    },
    {
      "cell_type": "code",
      "source": [
        "n, m = map(int, input().split())\n",
        "# n , m = 8, 8 \n",
        "\n",
        "board = []\n",
        "count = []\n",
        "\n",
        "for _ in range(n):\n",
        "  board.append(input())\n",
        "\n",
        "for x in range(n-7):\n",
        "  for y in range(m-7):\n",
        "    start_W = 0\n",
        "    start_B = 0\n",
        "    for i in range(x, x+8):\n",
        "      for j in range(y, y+8):\n",
        "        if (i + j) % 2 == 0:\n",
        "          if board[i][j] != 'W': start_W += 1\n",
        "          else: start_B += 1\n",
        "          \n",
        "        else:\n",
        "          if board[i][j] != 'B': start_W += 1\n",
        "          else: start_B += 1\n",
        "\n",
        "    count.append(start_W)\n",
        "    count.append(start_B)\n",
        "\n",
        "print(min(count))"
      ],
      "metadata": {
        "colab": {
          "base_uri": "https://localhost:8080/"
        },
        "id": "D1Ws1gU16706",
        "outputId": "c0388aa8-b423-4c76-d21b-0a3df9e3339c"
      },
      "execution_count": 11,
      "outputs": [
        {
          "output_type": "stream",
          "name": "stdout",
          "text": [
            "[1, 63]\n"
          ]
        }
      ]
    },
    {
      "cell_type": "markdown",
      "source": [
        "# 1920번 : 수 찾기"
      ],
      "metadata": {
        "id": "N8HFMkIKTiWZ"
      }
    },
    {
      "cell_type": "code",
      "source": [
        "n = int(input())\n",
        "a = set(map(int, input().split()))\n",
        "m = int(input())\n",
        "b = list(map(int, input().split()))\n",
        "\n",
        "for i in b:\n",
        "  print(1) if i in a else print(0)\n",
        "    \n",
        "\n"
      ],
      "metadata": {
        "colab": {
          "base_uri": "https://localhost:8080/"
        },
        "id": "9sMdeuf7Thmd",
        "outputId": "0166bd8f-55bd-4780-ba22-2e618dde75cf"
      },
      "execution_count": 8,
      "outputs": [
        {
          "output_type": "stream",
          "name": "stdout",
          "text": [
            "5\n",
            "4 1 5 2 3\n",
            "5\n",
            "1 3 7 9 5\n",
            "1\n",
            "1\n",
            "0\n",
            "0\n",
            "1\n"
          ]
        }
      ]
    },
    {
      "cell_type": "markdown",
      "source": [
        "# 2164번 : 카드2"
      ],
      "metadata": {
        "id": "ge9UQkBBLoLm"
      }
    },
    {
      "cell_type": "code",
      "source": [
        "# 시간초과\n",
        "# n = int(input())\n",
        "n = 6\n",
        "\n",
        "lst = []\n",
        "\n",
        "for i in range(1, n+1):\n",
        "  lst.append(i)\n",
        "\n",
        "while len(lst) != 1:\n",
        "  for j in lst:\n",
        "    del lst[0]\n",
        "    lst.append(lst[0])\n",
        "    del lst[0]\n",
        "\n",
        "print(lst)"
      ],
      "metadata": {
        "colab": {
          "base_uri": "https://localhost:8080/"
        },
        "id": "aAxy8-HcT577",
        "outputId": "024cd4d8-badb-462b-f41c-252d64e71cfb"
      },
      "execution_count": 13,
      "outputs": [
        {
          "output_type": "stream",
          "name": "stdout",
          "text": [
            "[4]\n"
          ]
        }
      ]
    },
    {
      "cell_type": "code",
      "source": [
        "# n = int(input())\n",
        "from collections import deque\n",
        "n = 6\n",
        "\n",
        "lst = deque(range(1, n+1))\n",
        "\n",
        "while len(lst) != 1:\n",
        "  lst.popleft()\n",
        "  lst.append(lst.popleft())\n",
        "\n",
        "\n",
        "print(lst.pop())"
      ],
      "metadata": {
        "colab": {
          "base_uri": "https://localhost:8080/"
        },
        "id": "2uf1KXPHQp3l",
        "outputId": "f48e9c80-c860-4809-8185-28250b73017a"
      },
      "execution_count": 21,
      "outputs": [
        {
          "output_type": "stream",
          "name": "stdout",
          "text": [
            "deque([1, 2, 3, 4, 5, 6])\n",
            "deque([3, 4, 5, 6, 2])\n",
            "deque([5, 6, 2, 4])\n",
            "deque([2, 4, 6])\n",
            "deque([6, 4])\n",
            "deque([4])\n",
            "4\n"
          ]
        }
      ]
    },
    {
      "cell_type": "code",
      "source": [
        ""
      ],
      "metadata": {
        "id": "tC61Np4TVlbM"
      },
      "execution_count": null,
      "outputs": []
    }
  ]
}