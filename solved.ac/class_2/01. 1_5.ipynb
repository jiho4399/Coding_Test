{
  "nbformat": 4,
  "nbformat_minor": 0,
  "metadata": {
    "colab": {
      "name": "1_5.ipynb",
      "provenance": [],
      "collapsed_sections": []
    },
    "kernelspec": {
      "name": "python3",
      "display_name": "Python 3"
    },
    "language_info": {
      "name": "python"
    }
  },
  "cells": [
    {
      "cell_type": "markdown",
      "source": [
        "# 1085번 : 직사각형에서 탈출"
      ],
      "metadata": {
        "id": "h4SctDUAMLAz"
      }
    },
    {
      "cell_type": "code",
      "source": [
        "x, y, w, h = list(map(int, input().split()))\n",
        "print(min([x, y, w - x, h - y]))"
      ],
      "metadata": {
        "colab": {
          "base_uri": "https://localhost:8080/"
        },
        "id": "QApcDNkbMLZd",
        "outputId": "4aa45e5c-dbce-4d58-b612-178599770c28"
      },
      "execution_count": null,
      "outputs": [
        {
          "output_type": "stream",
          "name": "stdout",
          "text": [
            "6 1 10 2\n",
            "1\n"
          ]
        }
      ]
    },
    {
      "cell_type": "markdown",
      "source": [
        "# 4153번 : 직각삼각형"
      ],
      "metadata": {
        "id": "8WFpJL9BMBvH"
      }
    },
    {
      "cell_type": "code",
      "execution_count": null,
      "metadata": {
        "colab": {
          "base_uri": "https://localhost:8080/"
        },
        "id": "zf8DRCIIL8pS",
        "outputId": "f7a5fc95-1e10-4aa0-9d8a-901b52a3c5b3"
      },
      "outputs": [
        {
          "name": "stdout",
          "output_type": "stream",
          "text": [
            "25 52 60\n",
            "wrong\n",
            "6 8 10\n",
            "right\n",
            "0 0 0\n"
          ]
        }
      ],
      "source": [
        "while True:\n",
        "  x, y, z = sorted(list(map(int, input().split())))\n",
        "  \n",
        "  if x == y == z == 0:\n",
        "    break\n",
        "\n",
        "  else:\n",
        "    if x**2 + y**2 == z**2:\n",
        "      print('right')\n",
        "    else:\n",
        "      print('wrong')"
      ]
    },
    {
      "cell_type": "markdown",
      "source": [
        "# 10250번 : ACM 호텔"
      ],
      "metadata": {
        "id": "8RoR4O3oQe9f"
      }
    },
    {
      "cell_type": "code",
      "source": [
        "T = int(input())\n",
        "\n",
        "for i in range(T):\n",
        "  H, W, N = map(int, input().split())\n",
        "  front = N % H\n",
        "  back = N // H + 1\n",
        "  if front == 0:\n",
        "    front = H\n",
        "    back = N // H\n",
        "  ans = front * 100 + back\n",
        "  print(ans)"
      ],
      "metadata": {
        "colab": {
          "base_uri": "https://localhost:8080/"
        },
        "id": "QXJB7RHtmTh5",
        "outputId": "860dfd4b-28b5-4d3d-9d02-42349c9e5f98"
      },
      "execution_count": null,
      "outputs": [
        {
          "output_type": "stream",
          "name": "stdout",
          "text": [
            "2\n",
            "6 12 10\n",
            "402\n",
            "6 12 12\n",
            "602\n"
          ]
        }
      ]
    },
    {
      "cell_type": "markdown",
      "source": [
        "# 2231번 : 분해합"
      ],
      "metadata": {
        "id": "l-NUDZqEbDUx"
      }
    },
    {
      "cell_type": "code",
      "source": [
        "# N = int(input())\n",
        "\n",
        "# ans = []\n",
        "\n",
        "# for i in range(1, N+1):\n",
        "#   lst = list(map(int, str(i)))\n",
        "\n",
        "#   if (N // i == 1) or (N // i == 2) & (N % i == sum(lst)):\n",
        "#     ans.append(i)\n",
        "#     break\n",
        "\n",
        "# try:\n",
        "#       print(min(ans))\n",
        "# except:\n",
        "#       print(0)\n",
        "\n",
        "\n",
        "# N = int(input())\n",
        "\n",
        "# ans = []\n",
        "\n",
        "# for i in range(1, N+1):\n",
        "#   lst = list(map(int, str(i)))\n",
        "#   if (N // i == 1 or N // i == 2) & (N % i == sum(lst)):\n",
        "#     ans.append(i)\n",
        "\n",
        "# print(ans)\n",
        "# min(ans)\n",
        "\n",
        "# 런타임에러\n",
        "\n",
        "# 살린 코드\n",
        "N = int(input())\n",
        "\n",
        "ans = []\n",
        "\n",
        "for i in range(1, N+1):\n",
        "  lst = list(map(int, str(i)))\n",
        "  # print(lst)\n",
        "  if (N // i == 1) & (N % i == sum(lst)):\n",
        "    ans.append(i)\n",
        "    # break\n",
        "\n",
        "# print(ans)\n",
        "if N>18 or N%2==1:\n",
        "  try:\n",
        "      print(min(ans))\n",
        "  except:\n",
        "      print(0)\n",
        "elif N%2==0:\n",
        "      print(N//2)\n",
        "else: \n",
        "      print(0)"
      ],
      "metadata": {
        "colab": {
          "base_uri": "https://localhost:8080/"
        },
        "id": "impIfQZUbDCI",
        "outputId": "ccab53ef-846d-4c26-8c4a-98ded9cbb3da"
      },
      "execution_count": null,
      "outputs": [
        {
          "output_type": "stream",
          "name": "stdout",
          "text": [
            "216\n",
            "198\n"
          ]
        }
      ]
    },
    {
      "cell_type": "code",
      "source": [
        "# 나의 풀이\n",
        "N = int(input())\n",
        "\n",
        "ans = 0\n",
        "\n",
        "for i in range(1, N+1):\n",
        "  lst = list(map(int, str(i)))\n",
        "  if N == i + sum(lst):\n",
        "    ans = i\n",
        "    break\n",
        "\n",
        "print(ans)\n"
      ],
      "metadata": {
        "colab": {
          "base_uri": "https://localhost:8080/"
        },
        "id": "FQtqsLn1bsH3",
        "outputId": "0d8ee32e-76a6-477f-8ab3-7ea327b653b0"
      },
      "execution_count": null,
      "outputs": [
        {
          "output_type": "stream",
          "name": "stdout",
          "text": [
            "21\n",
            "15\n"
          ]
        }
      ]
    },
    {
      "cell_type": "code",
      "source": [
        "# 경태님\n",
        "n=int(input())\n",
        "print(min([i for i in range(max(n-len(str(n))*9,1),n) if n == i+sum([int(j) for j in str(i)])]or[0]))"
      ],
      "metadata": {
        "id": "KQS36SNxojRP"
      },
      "execution_count": null,
      "outputs": []
    },
    {
      "cell_type": "markdown",
      "source": [
        "# 2292번 : 벌집"
      ],
      "metadata": {
        "id": "3MEPGjaYOFV5"
      }
    },
    {
      "cell_type": "code",
      "source": [
        "N = int(input())\n",
        "\n",
        "room = 1\n",
        "count = 1\n",
        "\n",
        "while N > room:\n",
        "  room += 6*count\n",
        "  count += 1\n",
        "\n",
        "print(count)\n"
      ],
      "metadata": {
        "colab": {
          "base_uri": "https://localhost:8080/"
        },
        "id": "_DrivGhmOKQ5",
        "outputId": "53ea7711-12cf-40e2-81f5-c979f9d27f7e"
      },
      "execution_count": null,
      "outputs": [
        {
          "output_type": "stream",
          "name": "stdout",
          "text": [
            "1\n",
            "1\n"
          ]
        }
      ]
    },
    {
      "cell_type": "code",
      "source": [
        ""
      ],
      "metadata": {
        "id": "J-zfnmZPTf6Y"
      },
      "execution_count": null,
      "outputs": []
    }
  ]
}