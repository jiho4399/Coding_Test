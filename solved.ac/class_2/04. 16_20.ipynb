{
  "nbformat": 4,
  "nbformat_minor": 0,
  "metadata": {
    "colab": {
      "name": "04. 16_20.ipynb",
      "provenance": [],
      "collapsed_sections": []
    },
    "kernelspec": {
      "name": "python3",
      "display_name": "Python 3"
    },
    "language_info": {
      "name": "python"
    }
  },
  "cells": [
    {
      "cell_type": "markdown",
      "source": [
        "# 1978번 : 소수 찾기"
      ],
      "metadata": {
        "id": "Ur_hfKN3dwQG"
      }
    },
    {
      "cell_type": "code",
      "execution_count": null,
      "metadata": {
        "colab": {
          "base_uri": "https://localhost:8080/"
        },
        "id": "rPRfS1xldmGN",
        "outputId": "fb6c1b34-fe0b-4af0-8149-6ae2cf319b26"
      },
      "outputs": [
        {
          "output_type": "stream",
          "name": "stdout",
          "text": [
            "4\n",
            "1 2 4 7\n",
            "2\n"
          ]
        }
      ],
      "source": [
        "n = int(input())\n",
        "nums = map(int, input().split())\n",
        "\n",
        "ans = 0\n",
        "\n",
        "for i in nums:\n",
        "  count = 0\n",
        "  if i == 1:\n",
        "    continue\n",
        "  \n",
        "  for j in range(2, i+1):\n",
        "    if i % j == 0:\n",
        "      count += 1\n",
        "\n",
        "  if count == 1:\n",
        "    ans += 1\n",
        "\n",
        "print(ans)"
      ]
    },
    {
      "cell_type": "markdown",
      "source": [
        "# 2751번 : 수 정렬하기2"
      ],
      "metadata": {
        "id": "vz8e2Upw5C_e"
      }
    },
    {
      "cell_type": "code",
      "source": [
        "import sys\n",
        "\n",
        "n = int(sys.stdin.readline())\n",
        "\n",
        "lst = []\n",
        "\n",
        "while n:\n",
        "  k = int(sys.stdin.readline())\n",
        "  n -= 1\n",
        "  lst.append(k)\n",
        "\n",
        "print(*sorted(lst), sep = '\\n')"
      ],
      "metadata": {
        "id": "_UFurjRygYyI",
        "colab": {
          "base_uri": "https://localhost:8080/"
        },
        "outputId": "74a530d4-caeb-4ca0-9a9a-74f3b0af28bb"
      },
      "execution_count": null,
      "outputs": [
        {
          "output_type": "stream",
          "name": "stdout",
          "text": [
            "5\n",
            "5\n",
            "4\n",
            "3\n",
            "2\n",
            "1\n",
            "1\n",
            "2\n",
            "3\n",
            "4\n",
            "5\n"
          ]
        }
      ]
    },
    {
      "cell_type": "markdown",
      "source": [
        "# 7568번 : 덩치"
      ],
      "metadata": {
        "id": "PvPOOvBC-vYE"
      }
    },
    {
      "cell_type": "code",
      "source": [
        "n = int(input())\n",
        "\n",
        "people = []  \n",
        "\n",
        "for _ in range(n):\n",
        "    x, y = map(int, input().split())\n",
        "    people.append([x, y])\n",
        "# print(people)\n",
        "for i in people:\n",
        "    rank = 1\n",
        "    print(i)\n",
        "    for j in people:\n",
        "      print(j)\n",
        "      if i[0] < j[0] and i[1] < j[1]:\n",
        "                rank += 1\n",
        "    print('=' * 50)\n",
        "    print(rank, end = \" \")"
      ],
      "metadata": {
        "id": "mm6LD8UP6Ea3"
      },
      "execution_count": null,
      "outputs": []
    },
    {
      "cell_type": "markdown",
      "source": [
        "# 10814번 : 나이순 정렬"
      ],
      "metadata": {
        "id": "1zmgEtSQUCqv"
      }
    },
    {
      "cell_type": "code",
      "source": [
        "n = int(input())\n",
        "info = []\n",
        "\n",
        "for _ in range(n):\n",
        "  age, name = map(str, input().split())\n",
        "  info.append([int(age), name])\n",
        "    \n",
        "info = sorted(info, key = lambda x: x[0])\n",
        "# info.sort(key = lambda x: x[0]) # 런타임 에러\n",
        "### sort : return 값이 None, 원본 변형\n",
        "### sorted : 원본 유지, 새로운 변수명 지정 요구(가능)\n",
        "\n",
        "for i in info:\n",
        "  print(i[0], i[1])\n",
        "  # print(*i, end='\\n') # 출력 초과"
      ],
      "metadata": {
        "id": "q6a31UJYIVwg"
      },
      "execution_count": null,
      "outputs": []
    },
    {
      "cell_type": "markdown",
      "source": [
        "# 11650번 : 좌표 정렬하기"
      ],
      "metadata": {
        "id": "ldjSkNUuEnG8"
      }
    },
    {
      "cell_type": "code",
      "source": [
        "n = int(input())\n",
        "\n",
        "point = []\n",
        "\n",
        "for _ in range(n):\n",
        "  x, y = map(int, input().split())\n",
        "  point.append([x, y])\n",
        "\n",
        "point = sorted(point)\n",
        "\n",
        "for i in point:\n",
        "  print(i[0], i[1])\n"
      ],
      "metadata": {
        "colab": {
          "base_uri": "https://localhost:8080/"
        },
        "id": "tqu4GABUNbYl",
        "outputId": "d5ead684-4219-49fc-9353-0dc4a68fce0a"
      },
      "execution_count": null,
      "outputs": [
        {
          "output_type": "stream",
          "name": "stdout",
          "text": [
            "3\n",
            "2 2\n",
            "2 -1\n",
            "-1 4\n",
            "[[2, 2], [2, -1], [-1, 4]]\n"
          ]
        }
      ]
    },
    {
      "cell_type": "code",
      "source": [
        ""
      ],
      "metadata": {
        "id": "MOHDD53uFW_m"
      },
      "execution_count": null,
      "outputs": []
    }
  ]
}