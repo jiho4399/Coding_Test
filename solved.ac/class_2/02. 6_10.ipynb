{
  "nbformat": 4,
  "nbformat_minor": 0,
  "metadata": {
    "colab": {
      "name": "6_10.ipynb",
      "provenance": [],
      "collapsed_sections": []
    },
    "kernelspec": {
      "name": "python3",
      "display_name": "Python 3"
    },
    "language_info": {
      "name": "python"
    }
  },
  "cells": [
    {
      "cell_type": "markdown",
      "source": [
        "# 2798번 : 블랙잭"
      ],
      "metadata": {
        "id": "lCYsoCptZ-XI"
      }
    },
    {
      "cell_type": "code",
      "execution_count": 3,
      "metadata": {
        "colab": {
          "base_uri": "https://localhost:8080/"
        },
        "id": "Y4qrGhdHYf2d",
        "outputId": "581520c7-abe7-42fa-a506-5837da236bbb"
      },
      "outputs": [
        {
          "output_type": "stream",
          "name": "stdout",
          "text": [
            "5 21\n",
            "5 6 7 8 9\n",
            "0\n",
            "1\n",
            "2\n",
            "------------------------------\n",
            "3\n",
            "------------------------------\n",
            "4\n",
            "------------------------------\n",
            "2\n",
            "3\n",
            "------------------------------\n",
            "4\n",
            "------------------------------\n",
            "3\n",
            "4\n",
            "------------------------------\n",
            "4\n",
            "1\n",
            "2\n",
            "3\n",
            "------------------------------\n",
            "4\n",
            "------------------------------\n",
            "3\n",
            "4\n",
            "------------------------------\n",
            "4\n",
            "2\n",
            "3\n",
            "4\n",
            "------------------------------\n",
            "4\n",
            "3\n",
            "4\n",
            "4\n",
            "[18, 19, 20, 20, 21, 21]\n",
            "21\n"
          ]
        }
      ],
      "source": [
        "# # N = 5\n",
        "# N = 10\n",
        "# # M = 21\n",
        "# M = 500\n",
        "# # cards = [5, 6, 7, 8, 9]\n",
        "# cards = [93, 181, 245, 214, 315, 36, 185, 138, 216, 295]\n",
        "\n",
        "N, M = map(int, input().split())\n",
        "cards = list(map(int, input().split()))\n",
        "\n",
        "lst = []\n",
        "for i in range(N-2):\n",
        "  print(i)\n",
        "  for j in range(i+1, N-1):\n",
        "    print(j)\n",
        "\n",
        "    for k in range(j+1, N):\n",
        "      print(k)\n",
        "      print('-'*30)\n",
        "\n",
        "      sum = cards[i] + cards[j] + cards[k]\n",
        "      if sum <= M:\n",
        "        lst.append(sum)\n",
        "\n",
        "print(lst)\n",
        "print(max(lst))"
      ]
    },
    {
      "cell_type": "markdown",
      "source": [
        "# 15829번 : Hsahing"
      ],
      "metadata": {
        "id": "G1VqOZvStT7K"
      }
    },
    {
      "cell_type": "code",
      "source": [
        "L = int(input())\n",
        "M = 1234567891\n",
        "r = 31\n",
        "alpa = input()\n",
        " \n",
        "answer = 0\n",
        " \n",
        "for i in range(len(alpa)):\n",
        "    num = ord(alpa[i]) - 96\n",
        "    answer += num * (r ** i)\n",
        " \n",
        "print(answer % M)"
      ],
      "metadata": {
        "id": "oVcSsC5GbmY7",
        "colab": {
          "base_uri": "https://localhost:8080/"
        },
        "outputId": "7c9de68e-dd48-4bf6-8f65-991ac20287fd"
      },
      "execution_count": 1,
      "outputs": [
        {
          "output_type": "stream",
          "name": "stdout",
          "text": [
            "5\n",
            "abcde\n",
            "4739715\n"
          ]
        }
      ]
    },
    {
      "cell_type": "markdown",
      "source": [
        "# 1259번 : 팰린드롬수"
      ],
      "metadata": {
        "id": "9wQq2E2ydMv7"
      }
    },
    {
      "cell_type": "code",
      "source": [
        "while True:\n",
        "  n = int(input())\n",
        "\n",
        "  if n == 0:\n",
        "    break\n",
        "  \n",
        "  else:\n",
        "    if str(n) == str(n)[::-1]:\n",
        "      print('yes')\n",
        "    else:\n",
        "      print('no')"
      ],
      "metadata": {
        "colab": {
          "base_uri": "https://localhost:8080/"
        },
        "id": "8Vx1sB_3wQef",
        "outputId": "b36f566c-d4cb-4d09-c5ee-e822544bc514"
      },
      "execution_count": 17,
      "outputs": [
        {
          "name": "stdout",
          "output_type": "stream",
          "text": [
            "121\n",
            "yes\n",
            "1231\n",
            "no\n",
            "0\n"
          ]
        }
      ]
    },
    {
      "cell_type": "markdown",
      "source": [
        "# 2609번 : 최대공약수와 최소공배수"
      ],
      "metadata": {
        "id": "8waMvjrpWjTC"
      }
    },
    {
      "cell_type": "code",
      "source": [
        "A, B = map(int, input().split())\n",
        "\n",
        "# A, B = 24, 18\n",
        "a, b = A, B\n",
        "\n",
        "while b != 0:\n",
        "  a = a%b\n",
        "  a, b = b, a\n",
        "\n",
        "# same_max = a\n",
        "# same_min = A*B//a\n",
        "\n",
        "print(a)\n",
        "print(A*B//a)\n"
      ],
      "metadata": {
        "colab": {
          "base_uri": "https://localhost:8080/"
        },
        "id": "TSAAlN7tdbf9",
        "outputId": "a3853a41-9356-45ef-87c4-e34e78eb5557"
      },
      "execution_count": 6,
      "outputs": [
        {
          "output_type": "stream",
          "name": "stdout",
          "text": [
            "6\n",
            "72\n"
          ]
        }
      ]
    },
    {
      "cell_type": "markdown",
      "source": [
        "# 2775번 : 부녀회장이 될테야"
      ],
      "metadata": {
        "id": "4qS05ictaAKJ"
      }
    },
    {
      "cell_type": "code",
      "source": [
        "t = int(input())\n",
        "\n",
        "for _ in range(t):\n",
        "  k = int(input()) # k층\n",
        "  n = int(input()) # n호\n",
        "  count = [_ for _ in range(1, n+1)]\n",
        "  # print(count)\n",
        "\n",
        "  for i in range(k):\n",
        "    for j in range(1, n):\n",
        "      count[j] += count[j-1]\n",
        "      print(count)\n",
        "      \n",
        "\n",
        "  print(count[-1])\n"
      ],
      "metadata": {
        "colab": {
          "base_uri": "https://localhost:8080/"
        },
        "id": "OBAMFoibdb3B",
        "outputId": "870d3451-b5a9-4b07-8a5e-3966b35315a4"
      },
      "execution_count": 2,
      "outputs": [
        {
          "output_type": "stream",
          "name": "stdout",
          "text": [
            "2\n",
            "1\n",
            "3\n",
            "[1, 3, 3]\n",
            "[1, 3, 6]\n",
            "6\n",
            "2\n",
            "3\n",
            "[1, 3, 3]\n",
            "[1, 3, 6]\n",
            "[1, 4, 6]\n",
            "[1, 4, 10]\n",
            "10\n"
          ]
        }
      ]
    },
    {
      "cell_type": "code",
      "source": [
        ""
      ],
      "metadata": {
        "id": "6Kl6u3cWmZM0"
      },
      "execution_count": null,
      "outputs": []
    }
  ]
}